{
 "cells": [
  {
   "cell_type": "markdown",
   "metadata": {},
   "source": [
    "# Aula 4: Blur, Canny e Delineação"
   ]
  },
  {
   "cell_type": "markdown",
   "metadata": {},
   "source": [
    "    Nesta aula vamos aprender a filtrar, suavizar, definir limites e bordas e delinear imagens, através das funções .blur, .canny e as funções contours\n",
    "     \n",
    "4.1 - Função .blur\n",
    "\n",
    "     Essas funções são úteis quando utilizadas para filtrar uma certa imagem, são usados quatro processos, que dependem da imagem a ser filtrada:\n",
    "\n",
    "    1)Retirando a Media Aritmética(.blur) dos pixels ao redor de uma certa região e substituindo o pixel central pelo valor dessa média, dada como parâmetro da função(tamanho da região);\n",
    "    \n",
    "    2)Através da Média Gaussiana(.GaussianBlur), também conhecida como distribuição normal;\n",
    "    \n",
    "    3)Através do valor mediano(.medianBlur), onde os valores dos pixels ao redor de uma certa região são colocados num rol, e o valor mediano é retirado, o pixel central da região é então substituído pelo valor da mediana. Essa função é particularmente efetiva quando usada para filtrar ruídos do tipo Sal e Pimenta;\n",
    "    \n",
    "    4)A Filtragem Bilateral(.bilateralFilter) é similar a Média Gaussiana, essa função toma os valores dos pixels numa região, tomando cuidado para pegar apenas valores que são aproximados do valor do pixel central.\n",
    "\n",
    "    Parâmetros:\n",
    "    .blur(img, tamanho da região)\n",
    "    .GaussianBlur(imagem, tamanho da região, SigmaX, SigmaY)\n",
    "    .medianBlur(img, tamanho da região)\n",
    "    .bilateralFilter(img, diametro da região, SigmaColor, SigmaSpace)\n",
    "\n",
    "    Obs: Quando o valor de SigmaColor for muito grande, os pixels mais distantes dentro da região vão ser misturados, resultando numa filtragem fraca.\n",
    "         Quando o valor de SigmaSpace for muito grande, os pixels mais distantes dentro da região serão confundidos se suas cores forem próximas, resultando numa filtragem fraca.\n",
    "         Portanto, é necessário achar um valor de SigmaColor e SigmaSpace apropriado pro tipo de imagem a ser filtrada."
   ]
  },
  {
   "cell_type": "code",
   "execution_count": null,
   "metadata": {},
   "outputs": [],
   "source": [
    "import cv2\n",
    "\n",
    "img = cv2.imread('imagem.jpg')\n",
    "\n",
    "blur = cv2.blur(img,(5,5))\n",
    "gaussian_blur = cv2.GaussianBlur(img,(5,5),0)\n",
    "median_blur = cv2.medianBlur(img,5)\n",
    "bilateral_blur = cv2.bilateralFilter(img,9,75,75)\n",
    "\n",
    "cv2.imshow('Borrado', blur)\n",
    "cv2.imshow('Original', img)\n",
    "cv2.imshow('Borrado Gaussiano', gaussian_blur)\n",
    "cv2.imshow('Borrado Mediano', median_blur)\n",
    "cv2.imshow('Borrado Bilateral', bilateral_blur)\n",
    "\n",
    "cv2.waitKey(0)\n",
    "cv2.destroyAllWindows\n"
   ]
  },
  {
   "cell_type": "markdown",
   "metadata": {},
   "source": [
    "4.2 - Função .canny\n",
    "\n",
    "    A Função .canny é usada para definir bordas de uma imagem, como as bordas de uma imagem são suscetíveis a ruídos na imagem, pode ser necessário passar a imagem por um dos filtros já vistos. Todos os pixels da imagem são analisados e definidos se são bordas ou não, através de um processo de conexão entre os pixels. \n",
    "  \n",
    " "
   ]
  },
  {
   "cell_type": "code",
   "execution_count": null,
   "metadata": {},
   "outputs": [],
   "source": [
    "import cv2\n",
    "import numpy as np\n",
    "\n",
    "img = cv2.imread('imagem.jpg',0)\n",
    "#gaussian_blur = cv2.GaussianBlur(img,(5,5),0)\n",
    "edges = cv2.Canny(img,100,200)\n",
    "\n",
    "cv2.imshow('Original',img)\n",
    "cv2.imshow('Bordas',edges)\n",
    "cv2.waitKey(0)\n",
    "cv2.destroyAllWindows()\n"
   ]
  },
  {
   "cell_type": "markdown",
   "metadata": {},
   "source": [
    "4.3 - Delimitação das bordas de uma imagem\n",
    "\n",
    "    Podemos delimitar as bordas(ou contorno) de uma imagem através de um processo envolvendo as funções .findContours e .drawContours, além de algumas funções vistas até agora. \n",
    "    \n",
    "    Para encontrar os contornos, primeiro utilizamos .findContours, que obrigatoriamente precisa de duas variaveis: contours e hierarquia. Contours é a definição, de fato, dos contornos da imagem, e hierarquia determina quais contornos terão prioridade sobre outros. Os parâmetros de .findContours são a imagem após passar pela função de threshold, a função de retirada dos contornos(RETR_LIST, RETR_EXTERNAL, RETR_CCOMP, RETR_TREE) e a função que define a aproximação dos contorno(CHAIN_APPROX_NONE, CHAIN_APPROX_SIMPLE)\n",
    "    \n",
    "    Para desenhar os contornos, usamos a função .drawContours, cujos paramêtros são a imagem, as matrizes de contornos, quais contornos o usuário deseja mostrar(-1 para mostrar todos ou qualquer número positivo para mostras contornos específicos), a cor das bordas dos contornos e a largura do contorno.\n",
    "    "
   ]
  },
  {
   "cell_type": "code",
   "execution_count": 1,
   "metadata": {},
   "outputs": [
    {
     "ename": "error",
     "evalue": "OpenCV(4.0.0) C:\\projects\\opencv-python\\opencv\\modules\\core\\src\\matrix.cpp:757: error: (-215:Assertion failed) dims <= 2 && step[0] > 0 in function 'cv::Mat::locateROI'\n",
     "output_type": "error",
     "traceback": [
      "\u001b[1;31m---------------------------------------------------------------------------\u001b[0m",
      "\u001b[1;31merror\u001b[0m                                     Traceback (most recent call last)",
      "\u001b[1;32m<ipython-input-1-f5ceac4e44b0>\u001b[0m in \u001b[0;36m<module>\u001b[1;34m()\u001b[0m\n\u001b[0;32m      4\u001b[0m \u001b[1;33m\u001b[0m\u001b[0m\n\u001b[0;32m      5\u001b[0m \u001b[0mimg\u001b[0m \u001b[1;33m=\u001b[0m \u001b[0mcv2\u001b[0m\u001b[1;33m.\u001b[0m\u001b[0mimread\u001b[0m\u001b[1;33m(\u001b[0m\u001b[1;34m'bolas.jpg'\u001b[0m\u001b[1;33m)\u001b[0m\u001b[1;33m\u001b[0m\u001b[0m\n\u001b[1;32m----> 6\u001b[1;33m \u001b[0mblur\u001b[0m \u001b[1;33m=\u001b[0m \u001b[0mcv2\u001b[0m\u001b[1;33m.\u001b[0m\u001b[0mblur\u001b[0m\u001b[1;33m(\u001b[0m\u001b[0mimg\u001b[0m\u001b[1;33m,\u001b[0m\u001b[1;33m(\u001b[0m\u001b[1;36m5\u001b[0m\u001b[1;33m,\u001b[0m\u001b[1;36m5\u001b[0m\u001b[1;33m)\u001b[0m\u001b[1;33m)\u001b[0m\u001b[1;33m\u001b[0m\u001b[0m\n\u001b[0m\u001b[0;32m      7\u001b[0m \u001b[0mimgray\u001b[0m \u001b[1;33m=\u001b[0m \u001b[0mcv2\u001b[0m\u001b[1;33m.\u001b[0m\u001b[0mcvtColor\u001b[0m\u001b[1;33m(\u001b[0m\u001b[0mblur\u001b[0m\u001b[1;33m,\u001b[0m\u001b[0mcv2\u001b[0m\u001b[1;33m.\u001b[0m\u001b[0mCOLOR_BGR2GRAY\u001b[0m\u001b[1;33m)\u001b[0m\u001b[1;33m\u001b[0m\u001b[0m\n\u001b[0;32m      8\u001b[0m \u001b[0mret\u001b[0m\u001b[1;33m,\u001b[0m\u001b[0mthreshold\u001b[0m \u001b[1;33m=\u001b[0m \u001b[0mcv2\u001b[0m\u001b[1;33m.\u001b[0m\u001b[0mthreshold\u001b[0m\u001b[1;33m(\u001b[0m\u001b[0mimgray\u001b[0m\u001b[1;33m,\u001b[0m\u001b[1;36m0\u001b[0m\u001b[1;33m,\u001b[0m\u001b[1;36m255\u001b[0m\u001b[1;33m,\u001b[0m\u001b[0mcv2\u001b[0m\u001b[1;33m.\u001b[0m\u001b[0mTHRESH_BINARY\u001b[0m\u001b[1;33m+\u001b[0m\u001b[0mcv2\u001b[0m\u001b[1;33m.\u001b[0m\u001b[0mTHRESH_OTSU\u001b[0m\u001b[1;33m)\u001b[0m\u001b[1;33m\u001b[0m\u001b[0m\n",
      "\u001b[1;31merror\u001b[0m: OpenCV(4.0.0) C:\\projects\\opencv-python\\opencv\\modules\\core\\src\\matrix.cpp:757: error: (-215:Assertion failed) dims <= 2 && step[0] > 0 in function 'cv::Mat::locateROI'\n"
     ]
    }
   ],
   "source": [
    "import cv2\n",
    "import numpy as np\n",
    "import cv2\n",
    "\n",
    "img = cv2.imread('imagem.jpg')\n",
    "blur = cv2.blur(img,(5,5))\n",
    "imgray = cv2.cvtColor(blur,cv2.COLOR_BGR2GRAY)\n",
    "ret,threshold = cv2.threshold(imgray,127,255,0)\n",
    "\n",
    "contours,hier= cv2.findContours(threshold,cv2.RETR_TREE,cv2.CHAIN_APPROX_SIMPLE)\n",
    "#print len(contours)\n",
    "\n",
    "cv2.drawContours(img, contours, -1, (0,0,0), 3)\n",
    "\n",
    "\n",
    "cv2.imshow('Contornos',img)\n",
    "cv2.waitKey(0)\n",
    "cv2.destroyAllWindows()\n"
   ]
  },
  {
   "cell_type": "markdown",
   "metadata": {},
   "source": [
    "    Acima, a linha \"print len(contours)\" imprime na tela o tamanho da matriz de contornos, isto é, quantos contornos a função .findContours foi capaz de encontrar na imagem dada a suavização feita pelo blur. Este valor pode ser mudado, mudando o fator de suavização de .blur e serve de parâmetro para uma boa suavização da imagem: uma imagem pobremente suavizada contém centenas de contornos enquanto uma imagem bem suavizada contém apenas os contornos reais."
   ]
  }
 ],
 "metadata": {
  "kernelspec": {
   "display_name": "Python 2",
   "language": "python",
   "name": "python2"
  },
  "language_info": {
   "codemirror_mode": {
    "name": "ipython",
    "version": 2
   },
   "file_extension": ".py",
   "mimetype": "text/x-python",
   "name": "python",
   "nbconvert_exporter": "python",
   "pygments_lexer": "ipython2",
   "version": "2.7.16"
  }
 },
 "nbformat": 4,
 "nbformat_minor": 2
}
