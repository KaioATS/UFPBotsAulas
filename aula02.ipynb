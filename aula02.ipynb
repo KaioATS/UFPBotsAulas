{
 "cells": [
  {
   "cell_type": "markdown",
   "metadata": {},
   "source": [
    "# Aula 2: Manipulações de imagens"
   ]
  },
  {
   "cell_type": "markdown",
   "metadata": {},
   "source": [
    "   ## 2.1 - Recortando uma imagem.\n",
    "   \n",
    "    Para recortar uma imagem podemos ler a imagem original, em seguida, escolher uma matrix de pixels específica dentro da nossa imagem, de modo que a imagem resultante é uma pedaço da imagem original, cujos limites são os pixels definidos no passo anterior:\n",
    "            "
   ]
  },
  {
   "cell_type": "code",
   "execution_count": 3,
   "metadata": {},
   "outputs": [],
   "source": [
    "import cv2\n",
    "import numpy as np\n",
    "\n",
    "img = cv2.imread(\"imagem.jpg\")\n",
    "\n",
    "ponto_inicial_y = 100\n",
    "ponto_final_y = 200\n",
    "ponto_inicial_x = 100\n",
    "ponto_final_x = 250\n",
    "\n",
    "imagem_recortada = img[ponto_inicial_y:ponto_final_y, ponto_inicial_x:ponto_final_x]\n",
    "cv2.imshow(\"imagem_recortada\", imagem_recortada)\n"
   ]
  },
  {
   "cell_type": "markdown",
   "metadata": {},
   "source": [
    "    2.2 - Transladando uma imagem.\n",
    "    \n",
    "    É possível transladar uma imagem através da função .warpAffine,, que \"multiplica\" a imagem original por uma matriz de translação e faz a imagem original mudar de posição.\n",
    "        "
   ]
  },
  {
   "cell_type": "code",
   "execution_count": 1,
   "metadata": {},
   "outputs": [],
   "source": [
    "img = cv2.imread('imagem.jpg',0)\n",
    "linhas,colunas = img.shape #tamanho da imagem\n",
    "\n",
    "tx=100 #quantidade de pixels a serem transladados no eixo x\n",
    "ty=50  #quantidade de pixels a serem transladados no eixo y\n",
    "\n",
    "M = np.float32([[1,0,tx],[0,1,ty]])\n",
    "imagem_transladada = cv2.warpAffine(img ,M, (colunas,linhas))\n",
    "\n",
    "cv2.imshow('Imagem',imagem_transladada)\n"
   ]
  },
  {
   "cell_type": "code",
   "execution_count": null,
   "metadata": {},
   "outputs": [],
   "source": [
    "Parâmetros: .warpAffine(imagem fonte, matriz de translação, tamanho da imagem fonte)"
   ]
  },
  {
   "cell_type": "markdown",
   "metadata": {},
   "source": [
    "    2.3 - Rotacionando uma imagem.\n",
    "        \n",
    "      Python entende que rotacionar uma imagem é a mesma coisa que transladar em torno de um ponto. A função .getRotationMatrix2D define uma matriz de rotação para que a função .warpAffine translade, é definido nos parâmetros de .getRotationMatrix2D o ponto ao redor do qual a imagem deve rotacionar, o ângulo de rotação e a escala da imagem(zoom):\n",
    "        "
   ]
  },
  {
   "cell_type": "code",
   "execution_count": null,
   "metadata": {},
   "outputs": [],
   "source": [
    "import cv2\n",
    "import numpy as np\n",
    "\n",
    "\n",
    "img = cv2.imread('imagem.jpg',0)\n",
    "linhas,colunas = img.shape\n",
    "\n",
    "M = cv2.getRotationMatrix2D((colunas/2,linhas/2),15,1)\n",
    "imagem_rotacionada = cv2.warpAffine(img,M,(colunas,linhas))\n",
    "\n",
    "cv2.imshow('img',imagem_rotacionada)\n",
    "cv2.waitKey(0)\n",
    "cv2.destroyAllWindows()\n",
    "\n"
   ]
  },
  {
   "cell_type": "markdown",
   "metadata": {},
   "source": [
    "Ecercício 1: Numa imagem qualquer, extraia uma região e cole em outra parte da imagem.\n",
    "    Use cv2.imwrite para salvar a imagem recortada"
   ]
  },
  {
   "cell_type": "markdown",
   "metadata": {},
   "source": [
    "2.4 - Desenhando figuras\n",
    "\n",
    "    Podemos desenhar figuras numa imagem qualquer: linhas, retangulos e circulos por exemplo.\n",
    "    Parametros das funcoes: .line(img, pt1, pt2, cor, largura)\n",
    "                            .rectangle(img, pt1, pt2, cor, largura)\n",
    "                            .circle(img, centro, raio, cor, largura)"
   ]
  },
  {
   "cell_type": "code",
   "execution_count": 15,
   "metadata": {},
   "outputs": [],
   "source": [
    "import numpy as np\n",
    "import cv2\n",
    "     \n",
    "#Criando uma imagem preta com tamanho especificado\n",
    "img = np.zeros((512,512,3), np.uint8)\n",
    "     \n",
    "#Desenhando figuras\n",
    "x_inicial = 0\n",
    "y_inicial = 0\n",
    "x_final = 511\n",
    "y_final = 511\n",
    "largura = 5\n",
    "\n",
    "cv2.line(img,(y_inicial,x_inicial),(y_final,x_final),(255,0,0),largura)  #BGR (Y,X)\n",
    "#cv2.rectangle(img,(0,0),(200,200),(0,255,0),3)\n",
    "#cv2.circle(img,(200,200), 100, (0,0,255), 5)\n",
    "\n",
    "cv2.imshow(\"Imagem\",img)\n",
    "cv2.waitKey(0)\n",
    "cv2.destroyAllWindows()"
   ]
  },
  {
   "cell_type": "markdown",
   "metadata": {},
   "source": [
    "Exercício 2: Escreva seu nome numa imagem qualquer utilizando as funções .line, .circle e/ou .rectangle."
   ]
  },
  {
   "cell_type": "markdown",
   "metadata": {},
   "source": [
    "2.5 - Escrevendo texto numa imagem\n",
    "\n",
    "    Neste caso a funcao .putText pode ser usada. É necessário definir a fonte a ser utilizada.\n",
    "    Parametros: .putText(img, texto, ponto inicial, fonte, tamanho da fonte, cor, largura, tipo da linha)\n",
    "    No tipo da linha LINE_AA é recomendado pelo OpenCV"
   ]
  },
  {
   "cell_type": "code",
   "execution_count": 14,
   "metadata": {},
   "outputs": [],
   "source": [
    "import numpy as np\n",
    "import cv2\n",
    "     \n",
    "#Criando uma imagem preta com tamanho especificado\n",
    "img = np.zeros((512,512,3), np.uint8)\n",
    "\n",
    "font = cv2.FONT_HERSHEY_SIMPLEX\n",
    "cv2.putText(img,'Texto qualquer',(100,100), font, 1,(255,255,255),2,cv2.LINE_AA)\n",
    "cv2.imshow(\"foo\",img)\n",
    "cv2.waitKey(0)\n",
    "cv2.destroyAllWindows()"
   ]
  }
 ],
 "metadata": {
  "kernelspec": {
   "display_name": "Python 3",
   "language": "python",
   "name": "python3"
  },
  "language_info": {
   "codemirror_mode": {
    "name": "ipython",
    "version": 3
   },
   "file_extension": ".py",
   "mimetype": "text/x-python",
   "name": "python",
   "nbconvert_exporter": "python",
   "pygments_lexer": "ipython3",
   "version": "3.6.8"
  }
 },
 "nbformat": 4,
 "nbformat_minor": 2
}
