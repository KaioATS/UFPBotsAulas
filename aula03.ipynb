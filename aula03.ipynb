{
 "cells": [
  {
   "cell_type": "markdown",
   "metadata": {},
   "source": [
    "# AULA 3"
   ]
  },
  {
   "cell_type": "markdown",
   "metadata": {},
   "source": [
    "Nessa aula iremos aprender sobre os conceitos de limiarização e como utilizar funções no OpenCV, a partir dessas ideias."
   ]
  },
  {
   "cell_type": "markdown",
   "metadata": {},
   "source": [
    " Limiarização é um processo de segmentação de imagens que se baseia na diferença dos níveis de cinza que compõe diferentes objetos de uma imagem. A partir de um limiar estabelecido de acordo com as características dos objetos que se quer isolar, a imagem pode ser segmentada em dois grupos: o grupo de pixels com níveis de cinza abaixo do limiar e o grupo de pixels com níveis de cinza acima do limiar. Em uma imagem limiarizada, atribui-se um valor fixo para todos os pixels de mesmo grupo. Teremos dentro do OpenCv uma gama de opções para trabalhar com essas limiarizações. \n"
   ]
  },
  {
   "cell_type": "markdown",
   "metadata": {},
   "source": [
    "A primeira função que precisamos entender é a cv2.threshold() e seus parâmetros. Normalmente convertemos  imagens  em  tons  de  cinza  para  imagens  preto  e  branco  onde  todos  os  pixels possuem 0 ou 255 como valores de intensidade.\n"
   ]
  },
  {
   "cell_type": "markdown",
   "metadata": {},
   "source": [
    "##### PARÂMETROS"
   ]
  },
  {
   "cell_type": "markdown",
   "metadata": {},
   "source": [
    "Ao inicializar a função, devemos indicar o nome de nossa variavel em que está contida a imagem. O segundo parâmetro é o limiar, um dos pontos mais importantes da função, já que ele que define a partir de qual intensidade iremos alterar os pixels. O terceiro parâmetro define qual a tonalidade máxima. O quarto e ultimo parâmetro varia de acordo com a limiarização que desejarmos e são dados por outras funções do opencv. A seguir vamos ver cada uma dessas funções, começando com a cv2.THRESH_BINARY"
   ]
  },
  {
   "cell_type": "markdown",
   "metadata": {},
   "source": [
    "essa função tem como objetivo dividir a imagem, a partir do parâmetro escolhido em valores de 0 e 255, deixando a imagem totalmente negra da numeração do parâmetro escolhido até 0, e deixando a cor branca acima disso, Como mostra a função:\n"
   ]
  },
  {
   "cell_type": "code",
   "execution_count": 3,
   "metadata": {},
   "outputs": [
    {
     "data": {
      "image/png": "[encoded data removed]",
      "text/plain": [
       "<IPython.core.display.Image object>"
      ]
     },
     "execution_count": 3,
     "metadata": {},
     "output_type": "execute_result"
    }
   ],
   "source": [
    "from IPython.display import Image\n",
    "Image(filename='limiarização ex1.png')"
   ]
  },
  {
   "cell_type": "code",
   "execution_count": null,
   "metadata": {},
   "outputs": [],
   "source": []
  }
 ],
 "metadata": {
  "kernelspec": {
   "display_name": "Python 3",
   "language": "python",
   "name": "python3"
  },
  "language_info": {
   "codemirror_mode": {
    "name": "ipython",
    "version": 3
   },
   "file_extension": ".py",
   "mimetype": "text/x-python",
   "name": "python",
   "nbconvert_exporter": "python",
   "pygments_lexer": "ipython3",
   "version": "3.6.5"
  }
 },
 "nbformat": 4,
 "nbformat_minor": 2
}
